{
 "cells": [
  {
   "cell_type": "code",
   "execution_count": 1,
   "metadata": {},
   "outputs": [],
   "source": [
    "import ee\n",
    "from plottosat.sentinel_one import SentinelOne\n",
    "from plottosat import config\n",
    "from datetime import date"
   ]
  },
  {
   "cell_type": "code",
   "execution_count": 2,
   "metadata": {},
   "outputs": [
    {
     "name": "stderr",
     "output_type": "stream",
     "text": [
      "2024-12-08 20:58:59,616 - DEBUG - Making request: POST https://oauth2.googleapis.com/token\n",
      "2024-12-08 20:58:59,617 - DEBUG - Starting new HTTPS connection (1): oauth2.googleapis.com:443\n",
      "2024-12-08 20:58:59,617 - DEBUG - Starting new HTTPS connection (1): oauth2.googleapis.com:443\n",
      "2024-12-08 20:58:59,747 - DEBUG - https://oauth2.googleapis.com:443 \"POST /token HTTP/11\" 200 None\n",
      "2024-12-08 20:58:59,748 - DEBUG - Making request: POST https://oauth2.googleapis.com/token\n",
      "2024-12-08 20:58:59,749 - DEBUG - Starting new HTTPS connection (1): oauth2.googleapis.com:443\n",
      "2024-12-08 20:58:59,889 - DEBUG - https://oauth2.googleapis.com:443 \"POST /token HTTP/11\" 200 None\n",
      "2024-12-08 20:58:59,893 - DEBUG - Making request: POST https://oauth2.googleapis.com/token\n",
      "2024-12-08 20:58:59,894 - DEBUG - Starting new HTTPS connection (1): oauth2.googleapis.com:443\n",
      "2024-12-08 20:59:00,068 - DEBUG - https://oauth2.googleapis.com:443 \"POST /token HTTP/11\" 200 None\n",
      "2024-12-08 20:59:00,070 - DEBUG - URL being requested: GET https://earthengine.googleapis.com/$discovery/rest?version=v1&prettyPrint=false\n",
      "2024-12-08 20:59:00,072 - DEBUG - Starting new HTTPS connection (1): earthengine.googleapis.com:443\n",
      "2024-12-08 20:59:00,420 - DEBUG - https://earthengine.googleapis.com:443 \"GET /$discovery/rest?version=v1&prettyPrint=false HTTP/11\" 200 None\n",
      "2024-12-08 20:59:00,453 - DEBUG - URL being requested: GET https://earthengine.googleapis.com/$discovery/rest?version=v1&prettyPrint=false\n",
      "2024-12-08 20:59:00,634 - DEBUG - https://earthengine.googleapis.com:443 \"GET /$discovery/rest?version=v1&prettyPrint=false HTTP/11\" 200 None\n",
      "2024-12-08 20:59:00,648 - DEBUG - URL being requested: GET https://earthengine.googleapis.com/v1/projects/plottosat-fjgibson/algorithms?prettyPrint=false&alt=json\n",
      "2024-12-08 20:59:01,034 - DEBUG - https://earthengine.googleapis.com:443 \"GET /v1/projects/plottosat-fjgibson/algorithms?prettyPrint=false&alt=json HTTP/11\" 200 None\n"
     ]
    }
   ],
   "source": [
    "ee.Authenticate()\n",
    "ee.Initialize(project='plottosat-fjgibson')"
   ]
  },
  {
   "cell_type": "code",
   "execution_count": 3,
   "metadata": {},
   "outputs": [],
   "source": [
    "sentinel_one = SentinelOne()"
   ]
  },
  {
   "cell_type": "code",
   "execution_count": 4,
   "metadata": {},
   "outputs": [],
   "source": [
    "start_date = str(date(2024, 1, 1))\n",
    "end_date = str(date(2024, 4, 1))\n",
    "\n",
    "geometry = ee.Geometry.Polygon(\n",
    "            [\n",
    "                [\n",
    "                    [-2.97404756802236, 41.99472813320794],\n",
    "                    [-2.97404756802236, 41.8107480842418],\n",
    "                    [-2.66643038052236, 41.8107480842418],\n",
    "                    [-2.66643038052236, 41.99472813320794],\n",
    "                ]\n",
    "            ]\n",
    "        )"
   ]
  },
  {
   "cell_type": "code",
   "execution_count": 5,
   "metadata": {},
   "outputs": [
    {
     "name": "stdout",
     "output_type": "stream",
     "text": [
      "2024-01-01\n",
      "2024-04-01\n"
     ]
    }
   ],
   "source": [
    "print(start_date)\n",
    "print(end_date)\n"
   ]
  },
  {
   "cell_type": "code",
   "execution_count": 6,
   "metadata": {},
   "outputs": [],
   "source": [
    "base_collection = sentinel_one._generate_base_collection(\n",
    "    start_date=start_date,\n",
    "    end_date=end_date,\n",
    "    geometry=geometry\n",
    ")"
   ]
  },
  {
   "cell_type": "code",
   "execution_count": 7,
   "metadata": {},
   "outputs": [
    {
     "name": "stdout",
     "output_type": "stream",
     "text": [
      "['VVAsc', 'VHAsc', 'VVDes', 'VHDes']\n"
     ]
    }
   ],
   "source": [
    "print(sentinel_one.bands)"
   ]
  },
  {
   "cell_type": "code",
   "execution_count": 8,
   "metadata": {},
   "outputs": [],
   "source": [
    "bands = sentinel_one.get_bands(\n",
    "    base_collection=base_collection,\n",
    "    selected_bands=['VVAsc', 'VHAsc', 'VVDes', 'VHDes'],\n",
    "    geometry=geometry\n",
    "    )"
   ]
  },
  {
   "cell_type": "code",
   "execution_count": 9,
   "metadata": {},
   "outputs": [],
   "source": [
    "import geemap"
   ]
  },
  {
   "cell_type": "code",
   "execution_count": 11,
   "metadata": {},
   "outputs": [
    {
     "data": {
      "text/html": [
       "\n",
       "            <style>\n",
       "                .geemap-dark {\n",
       "                    --jp-widgets-color: white;\n",
       "                    --jp-widgets-label-color: white;\n",
       "                    --jp-ui-font-color1: white;\n",
       "                    --jp-layout-color2: #454545;\n",
       "                    background-color: #383838;\n",
       "                }\n",
       "\n",
       "                .geemap-dark .jupyter-button {\n",
       "                    --jp-layout-color3: #383838;\n",
       "                }\n",
       "\n",
       "                .geemap-colab {\n",
       "                    background-color: var(--colab-primary-surface-color, white);\n",
       "                }\n",
       "\n",
       "                .geemap-colab .jupyter-button {\n",
       "                    --jp-layout-color3: var(--colab-primary-surface-color, white);\n",
       "                }\n",
       "            </style>\n",
       "            "
      ],
      "text/plain": [
       "<IPython.core.display.HTML object>"
      ]
     },
     "metadata": {},
     "output_type": "display_data"
    }
   ],
   "source": [
    "import folium\n",
    "from folium import plugins\n",
    "from plottosat.maps import basemaps, Map"
   ]
  },
  {
   "cell_type": "code",
   "execution_count": 13,
   "metadata": {},
   "outputs": [
    {
     "data": {
      "text/html": [
       "\n",
       "            <style>\n",
       "                .geemap-dark {\n",
       "                    --jp-widgets-color: white;\n",
       "                    --jp-widgets-label-color: white;\n",
       "                    --jp-ui-font-color1: white;\n",
       "                    --jp-layout-color2: #454545;\n",
       "                    background-color: #383838;\n",
       "                }\n",
       "\n",
       "                .geemap-dark .jupyter-button {\n",
       "                    --jp-layout-color3: #383838;\n",
       "                }\n",
       "\n",
       "                .geemap-colab {\n",
       "                    background-color: var(--colab-primary-surface-color, white);\n",
       "                }\n",
       "\n",
       "                .geemap-colab .jupyter-button {\n",
       "                    --jp-layout-color3: var(--colab-primary-surface-color, white);\n",
       "                }\n",
       "            </style>\n",
       "            "
      ],
      "text/plain": [
       "<IPython.core.display.HTML object>"
      ]
     },
     "metadata": {},
     "output_type": "display_data"
    },
    {
     "name": "stderr",
     "output_type": "stream",
     "text": [
      "2024-12-08 21:08:01,415 - DEBUG - URL being requested: POST https://earthengine.googleapis.com/v1/projects/plottosat-fjgibson/maps?fields=name&alt=json\n",
      "2024-12-08 21:08:01,418 - DEBUG - Resetting dropped connection: earthengine.googleapis.com\n",
      "2024-12-08 21:08:02,223 - DEBUG - https://earthengine.googleapis.com:443 \"POST /v1/projects/plottosat-fjgibson/maps?fields=name&alt=json HTTP/11\" 200 None\n",
      "2024-12-08 21:08:02,229 - DEBUG - URL being requested: POST https://earthengine.googleapis.com/v1/projects/plottosat-fjgibson/maps?fields=name&alt=json\n",
      "2024-12-08 21:08:02,593 - DEBUG - https://earthengine.googleapis.com:443 \"POST /v1/projects/plottosat-fjgibson/maps?fields=name&alt=json HTTP/11\" 200 None\n",
      "2024-12-08 21:08:02,598 - DEBUG - URL being requested: POST https://earthengine.googleapis.com/v1/projects/plottosat-fjgibson/maps?fields=name&alt=json\n",
      "2024-12-08 21:08:02,997 - DEBUG - https://earthengine.googleapis.com:443 \"POST /v1/projects/plottosat-fjgibson/maps?fields=name&alt=json HTTP/11\" 200 None\n",
      "2024-12-08 21:08:03,003 - DEBUG - URL being requested: POST https://earthengine.googleapis.com/v1/projects/plottosat-fjgibson/maps?fields=name&alt=json\n",
      "2024-12-08 21:08:03,907 - DEBUG - https://earthengine.googleapis.com:443 \"POST /v1/projects/plottosat-fjgibson/maps?fields=name&alt=json HTTP/11\" 200 None\n"
     ]
    },
    {
     "data": {
      "text/html": [
       "<div style=\"width:100%;\"><div style=\"position:relative;width:100%;height:0;padding-bottom:60%;\"><span style=\"color:#565656\">Make this Notebook Trusted to load map: File -> Trust Notebook</span><iframe srcdoc=\"&lt;!DOCTYPE html&gt;\n",
       "&lt;html&gt;\n",
       "&lt;head&gt;\n",
       "    \n",
       "    &lt;meta http-equiv=&quot;content-type&quot; content=&quot;text/html; charset=UTF-8&quot; /&gt;\n",
       "    \n",
       "        &lt;script&gt;\n",
       "            L_NO_TOUCH = false;\n",
       "            L_DISABLE_3D = false;\n",
       "        &lt;/script&gt;\n",
       "    \n",
       "    &lt;style&gt;html, body {width: 100%;height: 100%;margin: 0;padding: 0;}&lt;/style&gt;\n",
       "    &lt;style&gt;#map {position:absolute;top:0;bottom:0;right:0;left:0;}&lt;/style&gt;\n",
       "    &lt;script src=&quot;https://cdn.jsdelivr.net/npm/leaflet@1.9.3/dist/leaflet.js&quot;&gt;&lt;/script&gt;\n",
       "    &lt;script src=&quot;https://code.jquery.com/jquery-3.7.1.min.js&quot;&gt;&lt;/script&gt;\n",
       "    &lt;script src=&quot;https://cdn.jsdelivr.net/npm/bootstrap@5.2.2/dist/js/bootstrap.bundle.min.js&quot;&gt;&lt;/script&gt;\n",
       "    &lt;script src=&quot;https://cdnjs.cloudflare.com/ajax/libs/Leaflet.awesome-markers/2.0.2/leaflet.awesome-markers.js&quot;&gt;&lt;/script&gt;\n",
       "    &lt;link rel=&quot;stylesheet&quot; href=&quot;https://cdn.jsdelivr.net/npm/leaflet@1.9.3/dist/leaflet.css&quot;/&gt;\n",
       "    &lt;link rel=&quot;stylesheet&quot; href=&quot;https://cdn.jsdelivr.net/npm/bootstrap@5.2.2/dist/css/bootstrap.min.css&quot;/&gt;\n",
       "    &lt;link rel=&quot;stylesheet&quot; href=&quot;https://netdna.bootstrapcdn.com/bootstrap/3.0.0/css/bootstrap-glyphicons.css&quot;/&gt;\n",
       "    &lt;link rel=&quot;stylesheet&quot; href=&quot;https://cdn.jsdelivr.net/npm/@fortawesome/fontawesome-free@6.2.0/css/all.min.css&quot;/&gt;\n",
       "    &lt;link rel=&quot;stylesheet&quot; href=&quot;https://cdnjs.cloudflare.com/ajax/libs/Leaflet.awesome-markers/2.0.2/leaflet.awesome-markers.css&quot;/&gt;\n",
       "    &lt;link rel=&quot;stylesheet&quot; href=&quot;https://cdn.jsdelivr.net/gh/python-visualization/folium/folium/templates/leaflet.awesome.rotate.min.css&quot;/&gt;\n",
       "    \n",
       "            &lt;meta name=&quot;viewport&quot; content=&quot;width=device-width,\n",
       "                initial-scale=1.0, maximum-scale=1.0, user-scalable=no&quot; /&gt;\n",
       "            &lt;style&gt;\n",
       "                #map_ce22503b838ccd34101817139857260d {\n",
       "                    position: relative;\n",
       "                    width: 100.0%;\n",
       "                    height: 100.0%;\n",
       "                    left: 0.0%;\n",
       "                    top: 0.0%;\n",
       "                }\n",
       "                .leaflet-container { font-size: 1rem; }\n",
       "            &lt;/style&gt;\n",
       "        \n",
       "    &lt;script src=&quot;https://cdn.jsdelivr.net/npm/leaflet.fullscreen@3.0.0/Control.FullScreen.min.js&quot;&gt;&lt;/script&gt;\n",
       "    &lt;link rel=&quot;stylesheet&quot; href=&quot;https://cdn.jsdelivr.net/npm/leaflet.fullscreen@3.0.0/Control.FullScreen.css&quot;/&gt;\n",
       "&lt;/head&gt;\n",
       "&lt;body&gt;\n",
       "    \n",
       "    \n",
       "            &lt;div class=&quot;folium-map&quot; id=&quot;map_ce22503b838ccd34101817139857260d&quot; &gt;&lt;/div&gt;\n",
       "        \n",
       "&lt;/body&gt;\n",
       "&lt;script&gt;\n",
       "    \n",
       "    \n",
       "            var map_ce22503b838ccd34101817139857260d = L.map(\n",
       "                &quot;map_ce22503b838ccd34101817139857260d&quot;,\n",
       "                {\n",
       "                    center: [42.0, -3.0],\n",
       "                    crs: L.CRS.EPSG3857,\n",
       "                    zoom: 11,\n",
       "                    zoomControl: true,\n",
       "                    preferCanvas: false,\n",
       "                }\n",
       "            );\n",
       "\n",
       "            \n",
       "\n",
       "        \n",
       "    \n",
       "            var tile_layer_2a8b287dadcd0b951477c96f76f523ab = L.tileLayer(\n",
       "                &quot;https://tile.openstreetmap.org/{z}/{x}/{y}.png&quot;,\n",
       "                {&quot;attribution&quot;: &quot;\\u0026copy; \\u003ca href=\\&quot;https://www.openstreetmap.org/copyright\\&quot;\\u003eOpenStreetMap\\u003c/a\\u003e contributors&quot;, &quot;detectRetina&quot;: false, &quot;maxNativeZoom&quot;: 19, &quot;maxZoom&quot;: 19, &quot;minZoom&quot;: 0, &quot;noWrap&quot;: false, &quot;opacity&quot;: 1, &quot;subdomains&quot;: &quot;abc&quot;, &quot;tms&quot;: false}\n",
       "            );\n",
       "        \n",
       "    \n",
       "            tile_layer_2a8b287dadcd0b951477c96f76f523ab.addTo(map_ce22503b838ccd34101817139857260d);\n",
       "        \n",
       "    \n",
       "            var tile_layer_acf3192c159d31924beb9e4e6b828bfe = L.tileLayer(\n",
       "                &quot;https://mt1.google.com/vt/lyrs=m\\u0026x={x}\\u0026y={y}\\u0026z={z}&quot;,\n",
       "                {&quot;attribution&quot;: &quot;Google&quot;, &quot;detectRetina&quot;: false, &quot;maxZoom&quot;: 18, &quot;minZoom&quot;: 0, &quot;noWrap&quot;: false, &quot;opacity&quot;: 1, &quot;subdomains&quot;: &quot;abc&quot;, &quot;tms&quot;: false}\n",
       "            );\n",
       "        \n",
       "    \n",
       "            tile_layer_acf3192c159d31924beb9e4e6b828bfe.addTo(map_ce22503b838ccd34101817139857260d);\n",
       "        \n",
       "    \n",
       "            var tile_layer_77f1a083ceff01f87742e8c9591d3263 = L.tileLayer(\n",
       "                &quot;https://mt1.google.com/vt/lyrs=y\\u0026x={x}\\u0026y={y}\\u0026z={z}&quot;,\n",
       "                {&quot;attribution&quot;: &quot;Google&quot;, &quot;detectRetina&quot;: false, &quot;maxZoom&quot;: 18, &quot;minZoom&quot;: 0, &quot;noWrap&quot;: false, &quot;opacity&quot;: 1, &quot;subdomains&quot;: &quot;abc&quot;, &quot;tms&quot;: false}\n",
       "            );\n",
       "        \n",
       "    \n",
       "            tile_layer_77f1a083ceff01f87742e8c9591d3263.addTo(map_ce22503b838ccd34101817139857260d);\n",
       "        \n",
       "    \n",
       "            var tile_layer_84c95b47d74d78e098d68545bd1dcd74 = L.tileLayer(\n",
       "                &quot;https://earthengine.googleapis.com/v1/projects/plottosat-fjgibson/maps/a9eba951ff0024855b17c8f29fee692c-1e1fded80000f80f090c3f95b9ea9f5a/tiles/{z}/{x}/{y}&quot;,\n",
       "                {&quot;attribution&quot;: &quot;Google Earth Engine&quot;, &quot;detectRetina&quot;: false, &quot;maxZoom&quot;: 18, &quot;minZoom&quot;: 0, &quot;noWrap&quot;: false, &quot;opacity&quot;: 1, &quot;subdomains&quot;: &quot;abc&quot;, &quot;tms&quot;: false}\n",
       "            );\n",
       "        \n",
       "    \n",
       "            tile_layer_84c95b47d74d78e098d68545bd1dcd74.addTo(map_ce22503b838ccd34101817139857260d);\n",
       "        \n",
       "    \n",
       "            var tile_layer_4b4cce73d5279e60035704d850d5850e = L.tileLayer(\n",
       "                &quot;https://earthengine.googleapis.com/v1/projects/plottosat-fjgibson/maps/55df628e423faa84efce1b1e0b5c6699-00abdb2eda2f02f25b10aa4c3ecc2911/tiles/{z}/{x}/{y}&quot;,\n",
       "                {&quot;attribution&quot;: &quot;Google Earth Engine&quot;, &quot;detectRetina&quot;: false, &quot;maxZoom&quot;: 18, &quot;minZoom&quot;: 0, &quot;noWrap&quot;: false, &quot;opacity&quot;: 1, &quot;subdomains&quot;: &quot;abc&quot;, &quot;tms&quot;: false}\n",
       "            );\n",
       "        \n",
       "    \n",
       "            tile_layer_4b4cce73d5279e60035704d850d5850e.addTo(map_ce22503b838ccd34101817139857260d);\n",
       "        \n",
       "    \n",
       "            var tile_layer_5e95a9b18a1373bf3b1ba7823264b0a0 = L.tileLayer(\n",
       "                &quot;https://earthengine.googleapis.com/v1/projects/plottosat-fjgibson/maps/11462eddc43a39ed90b019567d94c40f-0ed49fe7da5210c2f8ef0702e2ca7ef0/tiles/{z}/{x}/{y}&quot;,\n",
       "                {&quot;attribution&quot;: &quot;Google Earth Engine&quot;, &quot;detectRetina&quot;: false, &quot;maxZoom&quot;: 18, &quot;minZoom&quot;: 0, &quot;noWrap&quot;: false, &quot;opacity&quot;: 1, &quot;subdomains&quot;: &quot;abc&quot;, &quot;tms&quot;: false}\n",
       "            );\n",
       "        \n",
       "    \n",
       "            tile_layer_5e95a9b18a1373bf3b1ba7823264b0a0.addTo(map_ce22503b838ccd34101817139857260d);\n",
       "        \n",
       "    \n",
       "            var tile_layer_e3f53c6c5d682d4fc0e22632ea849cb2 = L.tileLayer(\n",
       "                &quot;https://earthengine.googleapis.com/v1/projects/plottosat-fjgibson/maps/52ef82115a10c424c01e230c8fcb84e2-1487eb0f18f626ef5138d86c95c5fc0f/tiles/{z}/{x}/{y}&quot;,\n",
       "                {&quot;attribution&quot;: &quot;Google Earth Engine&quot;, &quot;detectRetina&quot;: false, &quot;maxZoom&quot;: 18, &quot;minZoom&quot;: 0, &quot;noWrap&quot;: false, &quot;opacity&quot;: 1, &quot;subdomains&quot;: &quot;abc&quot;, &quot;tms&quot;: false}\n",
       "            );\n",
       "        \n",
       "    \n",
       "            tile_layer_e3f53c6c5d682d4fc0e22632ea849cb2.addTo(map_ce22503b838ccd34101817139857260d);\n",
       "        \n",
       "    \n",
       "            var layer_control_b4b24fd92afef86d01956d7f0c2b390c_layers = {\n",
       "                base_layers : {\n",
       "                    &quot;openstreetmap&quot; : tile_layer_2a8b287dadcd0b951477c96f76f523ab,\n",
       "                },\n",
       "                overlays :  {\n",
       "                    &quot;Google Maps&quot; : tile_layer_acf3192c159d31924beb9e4e6b828bfe,\n",
       "                    &quot;Google Satellite&quot; : tile_layer_77f1a083ceff01f87742e8c9591d3263,\n",
       "                    &quot;VVAsc&quot; : tile_layer_84c95b47d74d78e098d68545bd1dcd74,\n",
       "                    &quot;VHAsc&quot; : tile_layer_4b4cce73d5279e60035704d850d5850e,\n",
       "                    &quot;VVDes&quot; : tile_layer_5e95a9b18a1373bf3b1ba7823264b0a0,\n",
       "                    &quot;VHDes&quot; : tile_layer_e3f53c6c5d682d4fc0e22632ea849cb2,\n",
       "                },\n",
       "            };\n",
       "            let layer_control_b4b24fd92afef86d01956d7f0c2b390c = L.control.layers(\n",
       "                layer_control_b4b24fd92afef86d01956d7f0c2b390c_layers.base_layers,\n",
       "                layer_control_b4b24fd92afef86d01956d7f0c2b390c_layers.overlays,\n",
       "                {&quot;autoZIndex&quot;: true, &quot;collapsed&quot;: true, &quot;position&quot;: &quot;topright&quot;}\n",
       "            ).addTo(map_ce22503b838ccd34101817139857260d);\n",
       "\n",
       "        \n",
       "    \n",
       "            L.control.fullscreen(\n",
       "                {&quot;forceSeparateButton&quot;: false, &quot;position&quot;: &quot;topleft&quot;, &quot;title&quot;: &quot;Full Screen&quot;, &quot;titleCancel&quot;: &quot;Exit Full Screen&quot;}\n",
       "            ).addTo(map_ce22503b838ccd34101817139857260d);\n",
       "        \n",
       "    \n",
       "            var layer_control_33efee3416c17a97b8ce46794d4acd8c_layers = {\n",
       "                base_layers : {\n",
       "                    &quot;openstreetmap&quot; : tile_layer_2a8b287dadcd0b951477c96f76f523ab,\n",
       "                },\n",
       "                overlays :  {\n",
       "                    &quot;Google Maps&quot; : tile_layer_acf3192c159d31924beb9e4e6b828bfe,\n",
       "                    &quot;Google Satellite&quot; : tile_layer_77f1a083ceff01f87742e8c9591d3263,\n",
       "                    &quot;VVAsc&quot; : tile_layer_84c95b47d74d78e098d68545bd1dcd74,\n",
       "                    &quot;VHAsc&quot; : tile_layer_4b4cce73d5279e60035704d850d5850e,\n",
       "                    &quot;VVDes&quot; : tile_layer_5e95a9b18a1373bf3b1ba7823264b0a0,\n",
       "                    &quot;VHDes&quot; : tile_layer_e3f53c6c5d682d4fc0e22632ea849cb2,\n",
       "                },\n",
       "            };\n",
       "            let layer_control_33efee3416c17a97b8ce46794d4acd8c = L.control.layers(\n",
       "                layer_control_33efee3416c17a97b8ce46794d4acd8c_layers.base_layers,\n",
       "                layer_control_33efee3416c17a97b8ce46794d4acd8c_layers.overlays,\n",
       "                {&quot;autoZIndex&quot;: true, &quot;collapsed&quot;: true, &quot;position&quot;: &quot;topright&quot;}\n",
       "            ).addTo(map_ce22503b838ccd34101817139857260d);\n",
       "\n",
       "        \n",
       "    \n",
       "            L.control.fullscreen(\n",
       "                {&quot;forceSeparateButton&quot;: false, &quot;position&quot;: &quot;topleft&quot;, &quot;title&quot;: &quot;Full Screen&quot;, &quot;titleCancel&quot;: &quot;Exit Full Screen&quot;}\n",
       "            ).addTo(map_ce22503b838ccd34101817139857260d);\n",
       "        \n",
       "&lt;/script&gt;\n",
       "&lt;/html&gt;\" style=\"position:absolute;width:100%;height:100%;left:0;top:0;border:none !important;\" allowfullscreen webkitallowfullscreen mozallowfullscreen></iframe></div></div>"
      ],
      "text/plain": [
       "<folium.folium.Map at 0x7299cc5a7a70>"
      ]
     },
     "metadata": {},
     "output_type": "display_data"
    }
   ],
   "source": [
    "# from geemap import basemaps\n",
    "\n",
    "# Create a folium map object.\n",
    "my_map = Map(location=[42,-3], zoom_start=11)\n",
    "\n",
    "basemaps['Google Maps'].add_to(my_map)\n",
    "basemaps['Google Satellite Hybrid'].add_to(my_map)\n",
    "\n",
    "\n",
    "for k, v in bands.items():\n",
    "    my_map.add_ee_layer(v.median(), {'min':-30,'max':0}, k)\n",
    "\n",
    "\n",
    "# Add a layer control panel to the map.\n",
    "my_map.add_child(folium.LayerControl())\n",
    "\n",
    "\n",
    "plugins.Fullscreen().add_to(my_map)\n",
    "\n",
    "# Add a layer control panel to the map.\n",
    "my_map.add_child(folium.LayerControl())\n",
    "\n",
    "# Add fullscreen button\n",
    "plugins.Fullscreen().add_to(my_map)\n",
    "\n",
    "# Display the map.\n",
    "display(my_map)"
   ]
  },
  {
   "cell_type": "code",
   "execution_count": null,
   "metadata": {},
   "outputs": [],
   "source": []
  }
 ],
 "metadata": {
  "kernelspec": {
   "display_name": ".venv",
   "language": "python",
   "name": "python3"
  },
  "language_info": {
   "codemirror_mode": {
    "name": "ipython",
    "version": 3
   },
   "file_extension": ".py",
   "mimetype": "text/x-python",
   "name": "python",
   "nbconvert_exporter": "python",
   "pygments_lexer": "ipython3",
   "version": "3.12.7"
  }
 },
 "nbformat": 4,
 "nbformat_minor": 2
}
